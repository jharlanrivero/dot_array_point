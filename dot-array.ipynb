{
 "cells": [
  {
   "cell_type": "markdown",
   "metadata": {},
   "source": [
    "# Imaging a dot array through turbulence: laboratory case. "
   ]
  },
  {
   "cell_type": "markdown",
   "metadata": {},
   "source": [
    "### <center>Jharlan Rivero and Darío G. Peréz</center>\n",
    "<center> Instituto de Física, Facultad de Ciencias, Pontifica Universidad Católica de Valparaíso</center>"
   ]
  },
  {
   "cell_type": "markdown",
   "metadata": {},
   "source": [
    "## Abstract\n",
    "----"
   ]
  },
  {
   "cell_type": "markdown",
   "metadata": {},
   "source": [
    "---"
   ]
  },
  {
   "cell_type": "markdown",
   "metadata": {},
   "source": [
    "## Free propagation of Gaussian beams"
   ]
  },
  {
   "cell_type": "markdown",
   "metadata": {},
   "source": [
    "An wavefront propagating in free space [...] $U_0(r,z)=\\exp (i k z) V(r,z)$"
   ]
  },
  {
   "cell_type": "markdown",
   "metadata": {},
   "source": [
    "$$\\frac{1}{r}\\frac{\\partial }{\\partial r}\\left(r\\frac{\\partial U_0}{\\partial r}\\right) + \\frac{\\partial ^2U_0}{ \\partial z^2} + k^2 U_0=0, \\quad\\quad\\text{(1)}$$ "
   ]
  },
  {
   "cell_type": "markdown",
   "metadata": {},
   "source": [
    "The paraxial approximation consists in considering the propagation distance $z$ through the optical axis is larger than the transversal spread of the beam, $||\\mathbf{r}||\\ll z$. "
   ]
  },
  {
   "cell_type": "markdown",
   "metadata": {},
   "source": [
    "<div style='color:red'> (put everything here)</div>"
   ]
  },
  {
   "cell_type": "markdown",
   "metadata": {},
   "source": [
    "A *centered Gaussian beam* at $z=0$ is defined by "
   ]
  },
  {
   "cell_type": "markdown",
   "metadata": {},
   "source": [
    "$$U_0(\\mathbf{r},0)=A_0 \\exp \\left(-\\frac{1}{2} \\alpha _0 k r^2\\right),\\quad\\quad(6)$$"
   ]
  },
  {
   "cell_type": "markdown",
   "metadata": {},
   "source": [
    "where "
   ]
  },
  {
   "cell_type": "markdown",
   "metadata": {},
   "source": [
    "$$\\alpha_0=\\frac{2}{kW_0^2}+i\\frac{ 1}{ F_0}.$$"
   ]
  },
  {
   "cell_type": "markdown",
   "metadata": {},
   "source": [
    "<div style='color:red'>(you need to finish this description)</div>"
   ]
  },
  {
   "cell_type": "markdown",
   "metadata": {},
   "source": [
    "$$\\gamma = \\begin{cases} 1. & \\text{plane wave,} \\\\ \\frac{|F_0 -z|}{|F_0-L|}, & \\text{spherical wave with focus at }F_0\\text{, and}\\\\  \\frac{|L-F_0 -z|}{|F_0-L|},&\\text{spherical wave with focus at }L-F_0.\\end{cases}  $$"
   ]
  },
  {
   "cell_type": "markdown",
   "metadata": {},
   "source": [
    "Yet, as we will discuss in this manuscript, we need to consider a descentered beam. Therefore, instead of $(6)$, we define "
   ]
  },
  {
   "cell_type": "markdown",
   "metadata": {},
   "source": [
    "$$U_0(\\mathbf{r},0)=A_0 \\exp \\left(-\\frac{1}{2} \\alpha _0 k ||\\mathbf{r}-\\mathbf{r}_0||^2\\right),\\quad\\quad(7)$$"
   ]
  },
  {
   "cell_type": "markdown",
   "metadata": {},
   "source": [
    "## Beam propagation through turbulence"
   ]
  },
  {
   "cell_type": "markdown",
   "metadata": {},
   "source": [
    "<div style='color:red'>(After all your calculations)</div>\n",
    "...\n",
    "\n",
    "Then, the first order phase perturbation for a Gaussian beam results in"
   ]
  },
  {
   "cell_type": "markdown",
   "metadata": {},
   "source": [
    "$$ H(\\boldsymbol{\\kappa},\\mathbf{r};z,L)=i k \\exp (i \\gamma\\,  \\boldsymbol{\\kappa} \\cdot \\mathbf{r}) \\exp \\left[-\\frac{i \\gamma  \\kappa ^2  (L-z)}{2 k}\\right].\\quad\\quad(3\\times)$$"
   ]
  },
  {
   "cell_type": "markdown",
   "metadata": {},
   "source": [
    "For a translated beam, we have"
   ]
  },
  {
   "cell_type": "markdown",
   "metadata": {},
   "source": [
    "$$\\frac{U_0(\\mathbf{s},z)}{U_0(\\mathbf{r},L)}=\\frac{P(L)}{P(z)} \\exp \\left[i k z-\\frac{\\alpha _0 k ||\\mathbf{s}-\\mathbf{r}_0||^2}{2 P(z)}\\right] \\exp \\left[-i k L+\\frac{\\alpha _0 k ||\\mathbf{r}-\\mathbf{r}_0||^2}{2 P(L)}\\right] \\\\=\\frac{1}{\\gamma }\\exp [i k (z-L)]\\exp \\left[-\\frac{\\alpha _0 k ||\\mathbf{s}-\\mathbf{r}_0||^2}{2 P(z)}\\right] \\exp \\left[\\frac{\\alpha _0 k ||\\mathbf{r}-\\mathbf{r}_0||^2}{2 P(L)}\\right].$$"
   ]
  },
  {
   "cell_type": "markdown",
   "metadata": {},
   "source": [
    "But since the Green's function is invariant to displacements; that is,"
   ]
  },
  {
   "cell_type": "markdown",
   "metadata": {},
   "source": [
    "$$G(\\mathbf{s},\\mathbf{r};z,L) = \\frac{1}{4 \\pi  (L-z)}\\exp \\left[\\frac{i k }{2 (L-z)}\\left| \\left| \\mathbf{s}-\\mathbf{r}_0-\\mathbf{r}+\\mathbf{r}_0\\right| \\right|^2+i k (L-z)\\right]\\\\=G(\\mathbf{s}-\\mathbf{r}_0,\\mathbf{r}-\\mathbf{r}_0;z,L).$$"
   ]
  },
  {
   "cell_type": "markdown",
   "metadata": {},
   "source": [
    "The propagator is then also invariant, and its Fourier transform is just"
   ]
  },
  {
   "cell_type": "markdown",
   "metadata": {},
   "source": [
    "$$ \\exp\\left(i\\boldsymbol{\\kappa}\\cdot\\mathbf{r}_0\\right)H\\left[\\boldsymbol{\\kappa},\\mathbf{r}-\\mathbf{r}_0;z,L\\right].$$"
   ]
  },
  {
   "cell_type": "markdown",
   "metadata": {},
   "source": [
    "Therefore,"
   ]
  },
  {
   "cell_type": "markdown",
   "metadata": {},
   "source": [
    "$$ H(\\boldsymbol{\\kappa},\\mathbf{r};z,L)=i k \\exp \\left[i \\gamma\\,  \\boldsymbol{\\kappa} \\cdot( \\mathbf{r}-\\mathbf{r}_0)\\right]\\exp (i   \\boldsymbol{\\kappa} \\cdot \\mathbf{r}_0) \\exp \\left[-\\frac{i \\gamma  \\kappa ^2  (L-z)}{2 k}\\right]\\\\= i k \\exp \\left[i (1-\\gamma)\\,  \\boldsymbol{\\kappa} \\cdot( \\mathbf{r}_0-\\mathbf{r})\\right]\\exp (i   \\boldsymbol{\\kappa} \\cdot \\mathbf{r}) \\exp \\left[-\\frac{i \\gamma  \\kappa ^2  (L-z)}{2 k}\\right].\\quad\\quad(3\\times)$$"
   ]
  },
  {
   "cell_type": "markdown",
   "metadata": {},
   "source": [
    "Using the transfer function spectral representation $(\\times\\times)$, we arrive to"
   ]
  },
  {
   "cell_type": "markdown",
   "metadata": {},
   "source": [
    "$$\\psi (\\mathbf{r},\\mathbf{r}_0;L)=\\int _0^Ldz\\int \\int _{-\\infty }^{\\infty }H(\\boldsymbol{\\kappa},\\mathbf{r};z,L) \\,\\text{d}^2\\nu (\\boldsymbol{\\kappa} ,z)\\\\ = i k\\int _0^Ldz\\int \\int _{-\\infty }^{\\infty } \\exp \\left[-\\frac{i \\kappa ^2 \\gamma  (L-z)}{2 k}\\right]\\exp \\left[i (1-\\gamma)\\,  \\boldsymbol{\\kappa} \\cdot( \\mathbf{r}_0-\\mathbf{r})\\right]\\exp (i   \\boldsymbol{\\kappa} \\cdot \\mathbf{r})\\,\\text{d}^2\\nu (\\boldsymbol{\\kappa} ,z).$$"
   ]
  },
  {
   "cell_type": "markdown",
   "metadata": {},
   "source": [
    "This result comes from the fact that the *original* Gaussian beam is decentered by $\\mathbf{r}_0$. This is exacltly Sasiela's result for $\\gamma=(1-z/L)$, but this is a more far reaching result."
   ]
  },
  {
   "cell_type": "markdown",
   "metadata": {},
   "source": [
    "Now, we need to integrate in both *source* and *aperture* distributions. Since the aperture, $A_D$, has a (hard) diameter $D=2R$, according to Sasiela's eq. (3.51), we have"
   ]
  },
  {
   "cell_type": "markdown",
   "metadata": {},
   "source": [
    "$$\\psi_S (D;L)= i k\\int _0^L\\text{d}z\\int \\int _{-\\infty }^{\\infty } \\exp \\left[-\\frac{i \\kappa ^2 \\gamma  (L-z)}{2 k}\\right]\\left\\{\\frac{1}{A_D\\int S(\\mathbf{r}_0)\\text{d}^2r_0}  \\int_{A_D}\\text{d}^2r\\int \\text{d}^2r_0 S(\\mathbf{r}_0)\\exp \\left[i (1-\\gamma)\\boldsymbol{\\kappa} \\cdot( \\mathbf{r}_0-\\mathbf{r})\\right]\\exp (i   \\boldsymbol{\\kappa} \\cdot \\mathbf{r})\\right\\}\\text{d}^2\\nu (\\boldsymbol{\\kappa} ,z).$$"
   ]
  },
  {
   "cell_type": "markdown",
   "metadata": {},
   "source": [
    "The integrals between braces can be easily integrated"
   ]
  },
  {
   "cell_type": "markdown",
   "metadata": {},
   "source": [
    "$$\\frac{1}{A_D}  \\int_{A_D} \\text{d}^2r\\exp \\left(i \\gamma\\boldsymbol{\\kappa} \\cdot\\mathbf{r}\\right)= 2\\frac{J_1\\left(\\kappa \\gamma R\\right)}{\\kappa \\gamma R},$$"
   ]
  },
  {
   "cell_type": "markdown",
   "metadata": {},
   "source": [
    "and if we consider a cylindically symmetrical source point (located at a point $\\mathbf{r}_i$, with radious $d_s$)"
   ]
  },
  {
   "cell_type": "markdown",
   "metadata": {},
   "source": [
    "$$\\frac{1}{A_S}  \\int_{A_S} \\text{d}^2r_0\\exp \\left[i (1-\\gamma)\\boldsymbol{\\kappa} \\cdot(\\mathbf{r}_0-\\mathbf{r}_i)\\right]= 2\\frac{J_1\\left[\\kappa (1-\\gamma) d_s/2\\right]}{\\kappa (1-\\gamma) d_s/2}\\exp \\left[-i (1-\\gamma)\\boldsymbol{\\kappa} \\cdot\\mathbf{r}_i\\right].$$"
   ]
  }
 ],
 "metadata": {
  "kernel_info": {
   "name": "python3"
  },
  "kernelspec": {
   "display_name": "Python 3",
   "language": "python",
   "name": "python3"
  },
  "language_info": {
   "codemirror_mode": {
    "name": "ipython",
    "version": 3
   },
   "file_extension": ".py",
   "mimetype": "text/x-python",
   "name": "python",
   "nbconvert_exporter": "python",
   "pygments_lexer": "ipython3",
   "version": "3.6.6+"
  },
  "nteract": {
   "version": "0.14.4"
  }
 },
 "nbformat": 4,
 "nbformat_minor": 1
}

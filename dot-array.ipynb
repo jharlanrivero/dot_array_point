{
  "cells": [
    {
      "cell_type": "markdown",
      "source": [
        "# Imaging a dot array through turbulence: laboratory case. "
      ],
      "metadata": {}
    },
    {
      "cell_type": "markdown",
      "source": [
        "### <center>Jharlan Rivero and Darío G. Peréz</center>\n",
        "<center> Instituto de Física, Facultad de Ciencias, Pontifica Universidad Católica de Valparaíso</center>"
      ],
      "metadata": {}
    },
    {
      "cell_type": "markdown",
      "source": [
        "## Abstract\n",
        "----"
      ],
      "metadata": {}
    },
    {
      "cell_type": "markdown",
      "source": [
        "---"
      ],
      "metadata": {}
    },
    {
      "cell_type": "markdown",
      "source": [
        "## Free propagation of Gaussian beams"
      ],
      "metadata": {}
    },
    {
      "cell_type": "markdown",
      "source": [
        "An wavefront propagating in free space [...] $U_0(r,z)=\\exp (i k z) V(r,z)$"
      ],
      "metadata": {}
    },
    {
      "cell_type": "markdown",
      "source": [
        "$$\\frac{1}{r}\\frac{\\partial }{\\partial r}\\left(r\\frac{\\partial U_0}{\\partial r}\\right) + \\frac{\\partial ^2U_0}{ \\partial z^2} + k^2 U_0=0, \\quad\\quad\\text{(1)}$$ "
      ],
      "metadata": {}
    },
    {
      "cell_type": "markdown",
      "source": [
        "The paraxial approximation consists in considering the propagation distance $z$ through the optical axis is larger than the transversal spread of the beam, $||\\mathbf{r}||\\ll z$. "
      ],
      "metadata": {}
    },
    {
      "cell_type": "markdown",
      "source": [
        "<div style='color:red'> (put everything here)</div>"
      ],
      "metadata": {}
    },
    {
      "cell_type": "markdown",
      "source": [
        "A *centered Gaussian beam* at $z=0$ is defined by "
      ],
      "metadata": {}
    },
    {
      "cell_type": "markdown",
      "source": [
        "$$U_0(\\mathbf{r},0)=A_0 \\exp \\left(-\\frac{1}{2} \\alpha _0 k r^2\\right),\\quad\\quad(6)$$"
      ],
      "metadata": {}
    },
    {
      "cell_type": "markdown",
      "source": [
        "where "
      ],
      "metadata": {}
    },
    {
      "cell_type": "markdown",
      "source": [
        "$$\\alpha_0=\\frac{2}{kW_0^2}+i\\frac{ 1}{ F_0}.$$"
      ],
      "metadata": {}
    },
    {
      "cell_type": "markdown",
      "source": [
        "<div style='color:red'>(you need to finish this description)</div>"
      ],
      "metadata": {}
    },
    {
      "cell_type": "markdown",
      "source": [
        "$$\\gamma = \\begin{cases} 1. & \\text{plane wave,} \\\\ \\frac{|F_0 -z|}{|F_0-L|}, & \\text{spherical wave with focus at }F_0\\text{, and}\\\\  \\frac{|L-F_0 -z|}{|F_0-L|},&\\text{spherical wave with focus at }L-F_0.\\end{cases}  $$"
      ],
      "metadata": {}
    },
    {
      "cell_type": "markdown",
      "source": [
        "Yet, as we will discuss in this manuscript, we need to consider a descentered beam. Therefore, instead of $(6)$, we define "
      ],
      "metadata": {}
    },
    {
      "cell_type": "markdown",
      "source": [
        "$$U_0(\\mathbf{r},0)=A_0 \\exp \\left(-\\frac{1}{2} \\alpha _0 k ||\\mathbf{r}-\\mathbf{r}_0||^2\\right),\\quad\\quad(7)$$"
      ],
      "metadata": {}
    },
    {
      "cell_type": "markdown",
      "source": [
        "## Beam propagation through turbulence"
      ],
      "metadata": {}
    },
    {
      "cell_type": "markdown",
      "source": [
        "<div style='color:red'>(After all your calculations)</div>\n",
        "...\n",
        "\n",
        "Then, the first order phase perturbation for a Gaussian beam results in"
      ],
      "metadata": {}
    },
    {
      "cell_type": "markdown",
      "source": [
        "$$ H(\\boldsymbol{\\kappa},\\mathbf{r};z,L)=i k \\exp (i \\gamma\\,  \\boldsymbol{\\kappa} \\cdot \\mathbf{r}) \\exp \\left[-\\frac{i \\gamma  \\kappa ^2  (L-z)}{2 k}\\right].\\quad\\quad(3\\times)$$"
      ],
      "metadata": {}
    },
    {
      "cell_type": "markdown",
      "source": [
        "For a translated beam, we have"
      ],
      "metadata": {}
    },
    {
      "cell_type": "markdown",
      "source": [
        "$$\\frac{U_0(\\mathbf{s},z)}{U_0(\\mathbf{r},L)}=\\frac{P(L)}{P(z)} \\exp \\left[i k z-\\frac{\\alpha _0 k ||\\mathbf{s}-\\mathbf{r}_0||^2}{2 P(z)}\\right] \\exp \\left[-i k L+\\frac{\\alpha _0 k ||\\mathbf{r}-\\mathbf{r}_0||^2}{2 P(L)}\\right] \\\\=\\frac{1}{\\gamma }\\exp [i k (z-L)]\\exp \\left[-\\frac{\\alpha _0 k ||\\mathbf{s}-\\mathbf{r}_0||^2}{2 P(z)}\\right] \\exp \\left[\\frac{\\alpha _0 k ||\\mathbf{r}-\\mathbf{r}_0||^2}{2 P(L)}\\right].$$"
      ],
      "metadata": {}
    },
    {
      "cell_type": "markdown",
      "source": [
        "But since the Green's function is invariant to displacements; that is,"
      ],
      "metadata": {}
    },
    {
      "cell_type": "markdown",
      "source": [
        "$$G(\\mathbf{s},\\mathbf{r};z,L) = \\frac{1}{4 \\pi  (L-z)}\\exp \\left[\\frac{i k }{2 (L-z)}\\left| \\left| \\mathbf{s}-\\mathbf{r}_0-\\mathbf{r}+\\mathbf{r}_0\\right| \\right|^2+i k (L-z)\\right]\\\\=G(\\mathbf{s}-\\mathbf{r}_0,\\mathbf{r}-\\mathbf{r}_0;z,L).$$"
      ],
      "metadata": {}
    },
    {
      "cell_type": "markdown",
      "source": [
        "The propagator is then also invariant, and its Fourier transform is just"
      ],
      "metadata": {}
    },
    {
      "cell_type": "markdown",
      "source": [
        "$$ \\exp\\left(i\\boldsymbol{\\kappa}\\cdot\\mathbf{r}_0\\right)H\\left[\\boldsymbol{\\kappa},\\mathbf{r}-\\mathbf{r}_0;z,L\\right].$$"
      ],
      "metadata": {}
    },
    {
      "cell_type": "markdown",
      "source": [
        "Therefore,"
      ],
      "metadata": {}
    },
    {
      "cell_type": "markdown",
      "source": [
        "$$ H(\\boldsymbol{\\kappa},\\mathbf{r};z,L)=i k \\exp \\left[i \\gamma\\,  \\boldsymbol{\\kappa} \\cdot( \\mathbf{r}-\\mathbf{r}_0)\\right]\\exp (i   \\boldsymbol{\\kappa} \\cdot \\mathbf{r}_0) \\exp \\left[-\\frac{i \\gamma  \\kappa ^2  (L-z)}{2 k}\\right].\\quad\\quad(3\\times)$$"
      ],
      "metadata": {}
    },
    {
      "cell_type": "markdown",
      "source": [
        "Using the transfer function spectral representation $(\\times\\times)$, we arrive to"
      ],
      "metadata": {}
    },
    {
      "cell_type": "markdown",
      "source": [
        "$$\\psi (\\mathbf{r},L)=\\int _0^Ldz\\int \\int _{-\\infty }^{\\infty }H(\\boldsymbol{\\kappa},\\mathbf{r};z,L) \\,\\text{d}^2\\nu (\\boldsymbol{\\kappa} ,z) = i k\\int _0^Ldz\\int \\int _{-\\infty }^{\\infty } \\exp \\left[-\\frac{i \\kappa ^2 \\gamma  (L-z)}{2 k}\\right]\\exp (i \\gamma\\boldsymbol{\\kappa }  \\cdot \\mathbf{r}) \\,\\text{d}^2\\nu (\\boldsymbol{\\kappa} ,z).$$"
      ],
      "metadata": {}
    },
    {
      "cell_type": "markdown",
      "source": [
        "This result comes from the fact that the *original* Gaussian beam is centered at $\\rho=0$. Henceforth, if you correct this calculation assuming the Gaussian beam is centered around $\\boldsymbol{\\rho}_0$, then your should arrive to"
      ],
      "metadata": {}
    },
    {
      "cell_type": "markdown",
      "source": [
        "$$\\psi (\\mathbf{r},L)= i k\\int _0^Ldz\\int \\int _{-\\infty }^{\\infty } \\exp \\left[-\\frac{i \\kappa ^2 \\gamma  (L-z)}{2 k}\\right]\\exp (i \\gamma\\boldsymbol{\\kappa }  \\cdot \\mathbf{r}) \\,\\text{d}^2\\nu (\\boldsymbol{\\kappa} ,z).$$"
      ],
      "metadata": {}
    }
  ],
  "metadata": {
    "kernel_info": {
      "name": "python3"
    },
    "language_info": {
      "name": "python",
      "version": "3.7.3",
      "mimetype": "text/x-python",
      "codemirror_mode": {
        "name": "ipython",
        "version": 3
      },
      "pygments_lexer": "ipython3",
      "nbconvert_exporter": "python",
      "file_extension": ".py"
    },
    "kernelspec": {
      "name": "python3",
      "language": "python",
      "display_name": "Python 3"
    },
    "nteract": {
      "version": "0.14.4"
    }
  },
  "nbformat": 4,
  "nbformat_minor": 0
}
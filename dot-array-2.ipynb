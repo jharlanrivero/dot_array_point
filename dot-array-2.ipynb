{
  "cells": [
    {
      "cell_type": "markdown",
      "source": [
        "# Imaging a dot array through turbulence: laboratory case. "
      ],
      "metadata": {}
    },
    {
      "cell_type": "markdown",
      "source": [
        "### <center>Jharlan Rivero and Darío G. Peréz</center>\n",
        "<center> Instituto de Física, Facultad de Ciencias, Pontifica Universidad Católica de Valparaíso</center>"
      ],
      "metadata": {}
    },
    {
      "cell_type": "markdown",
      "source": [
        "## Abstract\n",
        "----"
      ],
      "metadata": {}
    },
    {
      "cell_type": "markdown",
      "source": [
        "---"
      ],
      "metadata": {}
    },
    {
      "cell_type": "markdown",
      "source": [
        "## Free propagation of Gaussian beams"
      ],
      "metadata": {}
    },
    {
      "cell_type": "markdown",
      "source": [
        "An wavefront propagating in free space [...] $U_0(r,z)=\\exp (i k z) V(r,z)$"
      ],
      "metadata": {}
    },
    {
      "cell_type": "markdown",
      "source": [
        "$$\\frac{1}{r}\\frac{\\partial }{\\partial r}\\left(r\\frac{\\partial U_0}{\\partial r}\\right) + \\frac{\\partial ^2U_0}{ \\partial z^2} + k^2 U_0=0, \\quad\\quad\\text{(1)}$$ "
      ],
      "metadata": {}
    },
    {
      "cell_type": "markdown",
      "source": [
        "The paraxial approximation consists in considering the propagation distance $z$ through the optical axis is larger than the transversal spread of the beam, $||\\mathbf{r}||\\ll z$. "
      ],
      "metadata": {}
    },
    {
      "cell_type": "markdown",
      "source": [
        "<div style='color:red'> (put everything here)</div>"
      ],
      "metadata": {}
    },
    {
      "cell_type": "markdown",
      "source": [
        "A *centered Gaussian beam* at $z=0$ is defined by "
      ],
      "metadata": {}
    },
    {
      "cell_type": "markdown",
      "source": [
        "$$U_0(\\mathbf{r},0)=A_0 \\exp \\left(-\\frac{1}{2} \\alpha _0 k r^2\\right),\\quad\\quad(6)$$"
      ],
      "metadata": {}
    },
    {
      "cell_type": "markdown",
      "source": [
        "where "
      ],
      "metadata": {}
    },
    {
      "cell_type": "markdown",
      "source": [
        "$$\\alpha_0=\\frac{2}{kW_0^2}+i\\frac{ 1}{ F_0}.$$"
      ],
      "metadata": {}
    },
    {
      "cell_type": "markdown",
      "source": [
        "<div style='color:red'>(you need to finish this description)</div>"
      ],
      "metadata": {}
    },
    {
      "cell_type": "markdown",
      "source": [
        "$$\\gamma = \\begin{cases} 1. & \\text{plane wave,} \\\\ \\frac{|F_0 -z|}{|F_0-L|}, & \\text{spherical wave with focus at }F_0\\text{, and}\\\\  \\frac{|L-F_0 -z|}{|F_0-L|},&\\text{spherical wave with focus at }L-F_0.\\end{cases}  $$"
      ],
      "metadata": {}
    },
    {
      "cell_type": "markdown",
      "source": [
        "Yet, as we will discuss in this manuscript, we need to consider a descentered beam. Therefore, instead of $(6)$, we define "
      ],
      "metadata": {}
    },
    {
      "cell_type": "markdown",
      "source": [
        "$$U_0(\\mathbf{r},0)=A_0 \\exp \\left(-\\frac{1}{2} \\alpha _0 k ||\\mathbf{r}-\\mathbf{r}_0||^2\\right),\\quad\\quad(7)$$"
      ],
      "metadata": {}
    },
    {
      "cell_type": "markdown",
      "source": [
        "## Beam propagation through turbulence"
      ],
      "metadata": {}
    },
    {
      "cell_type": "markdown",
      "source": [
        "<div style='color:red'>(After all your calculations)</div>\n",
        "...\n",
        "\n",
        "Then, the first order phase perturbation for a Gaussian beam results in"
      ],
      "metadata": {}
    },
    {
      "cell_type": "markdown",
      "source": [
        "$$ H(\\boldsymbol{\\kappa},\\mathbf{r};z,L)=i k \\exp (i \\gamma\\,  \\boldsymbol{\\kappa} \\cdot \\mathbf{r}) \\exp \\left[-\\frac{i \\gamma  \\kappa ^2  (L-z)}{2 k}\\right].\\quad\\quad(3\\times)$$"
      ],
      "metadata": {}
    },
    {
      "cell_type": "markdown",
      "source": [
        "For a translated beam, we have"
      ],
      "metadata": {}
    },
    {
      "cell_type": "markdown",
      "source": [
        "$$\\frac{U_0(\\mathbf{s},z)}{U_0(\\mathbf{r},L)}=\\frac{P(L)}{P(z)} \\exp \\left[i k z-\\frac{\\alpha _0 k ||\\mathbf{s}-\\mathbf{r}_0||^2}{2 P(z)}\\right] \\exp \\left[-i k L+\\frac{\\alpha _0 k ||\\mathbf{r}-\\mathbf{r}_0||^2}{2 P(L)}\\right] \\\\=\\frac{1}{\\gamma }\\exp [i k (z-L)]\\exp \\left[-\\frac{\\alpha _0 k ||\\mathbf{s}-\\mathbf{r}_0||^2}{2 P(z)}\\right] \\exp \\left[\\frac{\\alpha _0 k ||\\mathbf{r}-\\mathbf{r}_0||^2}{2 P(L)}\\right].$$"
      ],
      "metadata": {}
    },
    {
      "cell_type": "markdown",
      "source": [
        "But since the Green's function is invariant to displacements; that is,"
      ],
      "metadata": {}
    },
    {
      "cell_type": "markdown",
      "source": [
        "$$G(\\mathbf{s},\\mathbf{r};z,L) = \\frac{1}{4 \\pi  (L-z)}\\exp \\left[\\frac{i k }{2 (L-z)}\\left| \\left| \\mathbf{s}-\\mathbf{r}_0-\\mathbf{r}+\\mathbf{r}_0\\right| \\right|^2+i k (L-z)\\right]\\\\=G(\\mathbf{s}-\\mathbf{r}_0,\\mathbf{r}-\\mathbf{r}_0;z,L).$$"
      ],
      "metadata": {}
    },
    {
      "cell_type": "markdown",
      "source": [
        "The propagator is then also invariant, and its Fourier transform is just"
      ],
      "metadata": {}
    },
    {
      "cell_type": "markdown",
      "source": [
        "$$ \\exp\\left(i\\boldsymbol{\\kappa}\\cdot\\mathbf{r}_0\\right)H\\left[\\boldsymbol{\\kappa},\\mathbf{r}-\\mathbf{r}_0;z,L\\right].$$"
      ],
      "metadata": {}
    },
    {
      "cell_type": "markdown",
      "source": [
        "Therefore,"
      ],
      "metadata": {}
    },
    {
      "cell_type": "markdown",
      "source": [
        "$$ H(\\boldsymbol{\\kappa},\\mathbf{r};z,L)=i k \\exp \\left[i \\gamma\\,  \\boldsymbol{\\kappa} \\cdot( \\mathbf{r}-\\mathbf{r}_0)\\right]\\exp (i   \\boldsymbol{\\kappa} \\cdot \\mathbf{r}_0) \\exp \\left[-\\frac{i \\gamma  \\kappa ^2  (L-z)}{2 k}\\right]\\\\= i k \\exp \\left[i (1-\\gamma)\\,  \\boldsymbol{\\kappa} \\cdot( \\mathbf{r}_0-\\mathbf{r})\\right]\\exp (i   \\boldsymbol{\\kappa} \\cdot \\mathbf{r}) \\exp \\left[-\\frac{i \\gamma  \\kappa ^2  (L-z)}{2 k}\\right].\\quad\\quad(\\times.1)$$"
      ],
      "metadata": {}
    },
    {
      "cell_type": "markdown",
      "source": [
        "Using the transfer function spectral representation $(\\times\\times)$, we arrive to"
      ],
      "metadata": {}
    },
    {
      "cell_type": "markdown",
      "source": [
        "$$\\psi (\\mathbf{r},\\mathbf{r}_0;L)=\\int _0^Ldz\\int \\int _{-\\infty }^{\\infty }H(\\boldsymbol{\\kappa},\\mathbf{r};z,L) \\,\\text{d}^2\\nu (\\boldsymbol{\\kappa} ,z)\\\\ = i k\\int _0^Ldz\\int \\int _{-\\infty }^{\\infty } \\exp \\left[-\\frac{i \\kappa ^2 \\gamma  (L-z)}{2 k}\\right]\\exp \\left[i (1-\\gamma)\\,  \\boldsymbol{\\kappa} \\cdot( \\mathbf{r}_0-\\mathbf{r})\\right]\\exp (i   \\boldsymbol{\\kappa} \\cdot \\mathbf{r})\\,\\text{d}^2\\nu (\\boldsymbol{\\kappa} ,z).$$"
      ],
      "metadata": {}
    },
    {
      "cell_type": "markdown",
      "source": [
        "This result comes from the fact that the *original* Gaussian beam is decentered by $\\mathbf{r}_0$. This is exacltly Sasiela's result for $\\gamma=(1-z/L)$, but this is a more far reaching result."
      ],
      "metadata": {}
    },
    {
      "cell_type": "markdown",
      "source": [
        "Now, we need to integrate in both *source* and *aperture* distributions. Since the aperture, $A_D$, has a (hard) diameter $D=2R$, according to Sasiela's eq. (3.51), we have"
      ],
      "metadata": {}
    },
    {
      "cell_type": "markdown",
      "source": [
        "$$\\psi_S (D;L)= i k\\int _0^L\\text{d}z\\int \\int _{-\\infty }^{\\infty } \\exp \\left[-\\frac{i \\kappa ^2 \\gamma  (L-z)}{2 k}\\right]\\left\\{\\frac{1}{A_D\\int S(\\mathbf{r}_0)\\text{d}^2r_0}  \\int_{A_D}\\text{d}^2r\\int \\text{d}^2r_0 S(\\mathbf{r}_0)\\exp \\left[i (1-\\gamma)\\boldsymbol{\\kappa} \\cdot( \\mathbf{r}_0-\\mathbf{r})\\right]\\exp (i   \\boldsymbol{\\kappa} \\cdot \\mathbf{r})\\right\\}\\text{d}^2\\nu (\\boldsymbol{\\kappa} ,z).$$"
      ],
      "metadata": {}
    },
    {
      "cell_type": "markdown",
      "source": [
        "The integrals between braces can be easily integrated"
      ],
      "metadata": {}
    },
    {
      "cell_type": "markdown",
      "source": [
        "$$\\frac{1}{A_D}  \\int_{A_D} \\text{d}^2r\\exp \\left(i \\gamma\\boldsymbol{\\kappa} \\cdot\\mathbf{r}\\right)= 2\\frac{J_1\\left(\\kappa \\gamma R\\right)}{\\kappa \\gamma R},$$"
      ],
      "metadata": {}
    },
    {
      "cell_type": "markdown",
      "source": [
        "and if we consider a cylindically symmetrical source point (located at a point $\\mathbf{r}_i$, with radious $d_s$)"
      ],
      "metadata": {}
    },
    {
      "cell_type": "markdown",
      "source": [
        "$$\\frac{1}{A_S}  \\int_{A_S} \\text{d}^2r_0\\exp \\left[i (1-\\gamma)\\boldsymbol{\\kappa} \\cdot(\\mathbf{r}_0-\\mathbf{r}_i)\\right]= 2\\frac{J_1\\left[\\kappa (1-\\gamma) d_s/2\\right]}{\\kappa (1-\\gamma) d_s/2}\\exp \\left[-i (1-\\gamma)\\boldsymbol{\\kappa} \\cdot\\mathbf{r}_i\\right].$$"
      ],
      "metadata": {}
    },
    {
      "cell_type": "markdown",
      "source": [
        "As $d_s\\rightarrow 0$, this source becomes a point source and only the phase term $\\exp \\left[-i (1-\\gamma)\\boldsymbol{\\kappa} \\cdot\\mathbf{r}_i\\right]$ is left; that is,"
      ],
      "metadata": {}
    },
    {
      "cell_type": "markdown",
      "source": [
        "$$\\psi(D,\\mathbf{r}_i;L)= 2i k\\int _0^L\\text{d}z\\int \\int _{-\\infty }^{\\infty } \\exp \\left[-\\frac{i \\kappa ^2 \\gamma  (L-z)}{2 k}\\right]\\frac{J_1\\left(\\kappa \\gamma D/2\\right)}{\\kappa \\gamma D/2}\\exp \\left[-i (1-\\gamma)\\boldsymbol{\\kappa} \\cdot\\mathbf{r}_i\\right]\\,\\text{d}^2\\nu (\\boldsymbol{\\kappa} ,z).$$"
      ],
      "metadata": {}
    },
    {
      "cell_type": "markdown",
      "source": [
        "This equation referes to the complex wavefront; while when the gradient is required, we have to keep just the imaginary part, $\\phi=\\tfrac{1}{2i}(\\psi-\\psi^\\ast)$,"
      ],
      "metadata": {}
    },
    {
      "cell_type": "markdown",
      "source": [
        "$$\\boldsymbol{\\theta}(D,\\mathbf{r}_i;L)=\\frac{1}{A_D}\\int_{A_D}\\text{d}^2r\\,\\left(-\\frac{1}{k}\\right)\\nabla_\\perp\\phi(\\mathbf{r},\\mathbf{r}_i;L)\\\\= - 2 i\\int _0^L\\gamma\\,\\text{d}z\\int \\int _{-\\infty }^{\\infty } \\cos \\left[\\frac{\\kappa ^2 \\gamma  (L-z)}{2 k}\\right]\\frac{J_1\\left(\\kappa \\gamma D/2\\right)}{\\kappa \\gamma D/2}\\exp \\left[-i (1-\\gamma)\\boldsymbol{\\kappa} \\cdot\\mathbf{r}_i\\right]\\,\\boldsymbol{\\kappa}\\,\\text{d}^2\\nu (\\boldsymbol{\\kappa} ,z)$$"
      ],
      "metadata": {}
    },
    {
      "cell_type": "markdown",
      "source": [
        "—this is only valid if $\\gamma\\in\\mathbb{R}$. Therefore, variance of two contigous angles of arrivals will be (doing the calculation for just one axis) "
      ],
      "metadata": {}
    },
    {
      "cell_type": "markdown",
      "source": [
        "$$\\sigma_j^2 = \\langle\\left|\\theta_j(D,\\mathbf{r}_i;L)-\\theta_j(D,\\mathbf{r}_i';L)\\right|^2\\rangle\\\\=4 \\int _0^L\\gamma^2\\,\\text{d}z\\int _{0 }^{\\infty }\\int^{2\\pi}_0 \\kappa_j^2\\kappa\\Phi_n(\\kappa)\\,\\text{d}\\kappa\\times\\\\ \\times\\cos^2 \\left[\\frac{\\kappa ^2 \\gamma  (L-z)}{2 k}\\right]\\frac{J_1^2\\left(\\kappa \\gamma D/2\\right)}{(\\kappa \\gamma D/2)^2}\\left|1-\\exp \\left[i (1-\\gamma)\\boldsymbol{\\kappa} \\cdot(\\mathbf{r}_i-\\mathbf{r}_i')\\right]\\right|^2.\\quad\\quad(\\times.2)$$"
      ],
      "metadata": {}
    },
    {
      "cell_type": "markdown",
      "source": [
        "Let us consider, the separation between the two points $\\mathbf{r}_i-\\mathbf{r}_i'=\\mathbf{d}$ (they are not necessarilly next to each other nor aligned to a particular axis). We need to evaluate the angular integral first; since,"
      ],
      "metadata": {}
    },
    {
      "cell_type": "markdown",
      "source": [
        "$$\\left|1-\\exp \\left[i (1-\\gamma)\\boldsymbol{\\kappa} \\cdot(\\mathbf{r}_i-\\mathbf{r}_i')\\right]\\right|^2= 2\\left\\{1 - \\cos\\left[(1-\\gamma)\\boldsymbol{\\kappa} \\cdot\\mathbf{d}\\right]\\right\\}.$$"
      ],
      "metadata": {}
    },
    {
      "cell_type": "markdown",
      "source": [
        "we need to evaluate the integral"
      ],
      "metadata": {}
    },
    {
      "cell_type": "code",
      "source": [
        "Integrate[Cos[A Sin[q]+B Cos[q] ], {q, 0, 2*Pi}, Assumptions -> A > 0 && B>0]"
      ],
      "outputs": [
        {
          "output_type": "execute_result",
          "execution_count": 1,
          "data": {
            "text/plain": "2*Pi*BesselJ[0, Sqrt[A^2 + B^2]]"
          },
          "metadata": {}
        }
      ],
      "execution_count": 1,
      "metadata": {
        "inputHidden": false,
        "outputHidden": false
      }
    },
    {
      "cell_type": "markdown",
      "source": [
        "We also have $J_0(z)'=-J_1(z)$ and $J_1(z)'=J_0(z)-J_1(z)/z$. From the original integral, we derive the component integrals found in $(\\times.2)$"
      ],
      "metadata": {}
    },
    {
      "cell_type": "markdown",
      "source": [
        "Taking derivatives twice, and putting all together"
      ],
      "metadata": {
        "inputHidden": false,
        "outputHidden": false
      }
    },
    {
      "cell_type": "markdown",
      "source": [
        "$$\\int^{2\\pi}_0\\cos^2\\theta\\cos\\left[A\\cos\\theta+B\\sin\\theta\\right]=2\\pi\\left[\\frac{A^2}{A^2+B^2}J_0\\left(\\sqrt{A^2+B^2}\\right)-\\frac{A^2-B^2}{\\left(A^2+B^2\\right)^{3/2}}J_1\\left(\\sqrt{A^2+B^2}\\right)\\right],$$ and\n",
        "$$\\int^{2\\pi}_0\\sin^2\\theta\\cos\\left[A\\cos\\theta+B\\sin\\theta\\right]=2\\pi\\left[\\frac{B^2}{A^2+B^2}J_0\\left(\\sqrt{A^2+B^2}\\right)+\\frac{A^2-B^2}{\\left(A^2+B^2\\right)^{3/2}}J_1\\left(\\sqrt{A^2+B^2}\\right)\\right];$$"
      ],
      "metadata": {}
    },
    {
      "cell_type": "markdown",
      "source": [
        "while $\\int^{2\\pi}_0\\cos^2\\theta=\\int^{2\\pi}_0\\sin^2\\theta=\\pi$. Henceforth, we arrive to"
      ],
      "metadata": {}
    },
    {
      "cell_type": "markdown",
      "source": [
        "$$\\int^{2\\pi}_0 \\kappa_{\\parallel,\\perp}^2\\left|1-\\exp \\left[i (1-\\gamma)\\boldsymbol{\\kappa} \\cdot(\\mathbf{r}_i-\\mathbf{r}_i')\\right]\\right|^2=4\\pi\\kappa^2\\left\\{\\frac{1}{2} -{\\left.\\begin{cases}\\cos^2\\theta_d\\\\\\sin^2\\theta_d\\end{cases}\\right\\}}J_0\\left[(1-\\gamma)\\kappa d\\right] +{\\left.\\begin{cases}1-2\\sin^2\\theta_d\\\\2\\sin^2\\theta_d-1 \\end{cases}\\right\\}}\\frac{J_1\\left[(1-\\gamma)\\kappa d\\right]}{(1-\\gamma)\\kappa d}\\right\\}.$$"
      ],
      "metadata": {}
    },
    {
      "cell_type": "markdown",
      "source": [
        "This is a generalizaed version of the one given by Gladysz et al. ($\\theta_d=0$), as it considers correlations between any two points in the pupil plane. Defining $F_T(z)=1-J_0(z)$ and $F_1(z)=1/2-J_1(z)/z$, we can rewrite the covariances as"
      ],
      "metadata": {}
    },
    {
      "cell_type": "markdown",
      "source": [
        "$$\\sigma_j^2\\!\\left(D,\\mathbf{d};\\gamma,L\\right) =16\\pi \\int _0^L\\gamma^2\\,\\text{d}z\\int _{0 }^{\\infty }\\!\\text{d}\\kappa\\,\\kappa^3\\Phi_n(\\kappa)\\cos^2 \\left[\\frac{\\kappa ^2 \\gamma  (L-z)}{2 k}\\right]\\frac{J_1^2\\left(\\kappa \\gamma D/2\\right)}{(\\kappa \\gamma D/2)^2}\\times\\\\\\times \\left\\{\\left(\\frac{1+e^{i\\pi j}}{2}\\right)F_T[(1-\\gamma)\\kappa d]+e^{i\\pi j}F_1\\left[(1-\\gamma)\\kappa d\\right]-e^{i\\pi j}\\sin^2\\theta_d\\left\\{F_T[(1-\\gamma)\\kappa d]-2F_1[(1-\\gamma)\\kappa d]\\right\\}\\right\\}\\quad\\quad(\\times.3)$$"
      ],
      "metadata": {}
    },
    {
      "cell_type": "markdown",
      "source": [
        "—where $j=1,2$ are the parallel ($\\parallel$) and perpendicular ($\\perp$) directions, respectivelly. Let us test this result by introducing the von Kármán "
      ],
      "metadata": {}
    },
    {
      "cell_type": "markdown",
      "source": [
        "$$\\Phi _n(\\kappa )=C_n^2(H)\\frac{\\Gamma (2 H+2)}{4 \\pi ^2}\\sin (\\pi  H)\\frac{\\exp \\left(-\\kappa ^2/\\kappa _m^2\\right)}{\\left(\\kappa ^2+\\kappa _0^2\\right){}^{H+\\frac{3}{2}}},$$"
      ],
      "metadata": {}
    },
    {
      "cell_type": "markdown",
      "source": [
        "with $\\kappa_m=2\\pi/\\ell_0$ and $\\kappa_0=2\\pi/L_0$, the inner- and outer-scale frequencies, respectivelly, while $H$ is the *Hurst exponent* and $C^2_n(H)$ the generalized structure constant. For the purposes of these calculations, let us consider the dimentionless conversion by the inner-scale frequency $\\kappa=\\kappa_m u$ and distance $\\zeta=z/L$."
      ],
      "metadata": {}
    },
    {
      "cell_type": "markdown",
      "source": [
        "$$\\sigma_j^2\\!\\left(D,\\mathbf{d};\\gamma,L\\right) =\\frac{16\\pi \\kappa_m^{3-2H} A^2(H) L}{R_m^2}\\int _0^1\\!\\text{d}\\zeta\\int _{0 }^{\\infty }\\!\\frac{u\\exp(-u^2)\\, \\text{d}u}{(q^2+u^2)^{H+3/2}}\\cos^2 \\left[F_m\\gamma (1-\\zeta)u^2\\right]J_1^2\\left(R_m\\gamma u\\right)\\times\\\\\\times \\left\\{\\left(\\frac{1+e^{i\\pi j}}{2}\\right)F_T[(1-\\gamma)\\delta_m u]+e^{i\\pi j}F_1\\left[(1-\\gamma)\\delta_m u\\right]-e^{i\\pi j}\\sin^2\\theta_d\\left\\{F_T[(1-\\gamma)\\delta_m u]-2F_1[(1-\\gamma)\\delta_m u]\\right\\}\\right\\},\\quad\\quad(\\times.4)$$"
      ],
      "metadata": {}
    },
    {
      "cell_type": "markdown",
      "source": [
        "where $F_m=\\kappa_m^2L/(2k)$ is the *Fresnel number*  related to the inner scale, $R_m=\\kappa_mD/2$ and $\\delta_m =\\kappa_m d$ are the dimensionless *entrance pupil radious* and *separation between image dots*, respectively, while $q=\\ell_0/L_0$ is the inner to outer scale ratio.  Morevoer, as the generalized case also involves the very same integrals, we will concentrate in evaluating just these two"
      ],
      "metadata": {}
    },
    {
      "cell_type": "markdown",
      "source": [
        "$$I_T(F_m,R_m,\\delta_m;H,q)=\\int _0^1\\!\\text{d}\\zeta\\int _{0 }^{\\infty }\\!\\frac{u\\exp(-u^2)\\, \\text{d}u}{(q^2+u^2)^{H+3/2}}\\cos^2 \\left[F_m\\gamma (1-\\zeta)u^2\\right]J_1^2\\left(R_m\\gamma u\\right) F_T[(1-\\gamma)\\delta_m u],\\quad\\quad(\\times.5)$$ and $$I_1(F_m,R_m,\\delta_m;H,q)=\\int _0^1\\!\\text{d}\\zeta\\int _{0 }^{\\infty }\\!\\frac{u\\exp(-u^2)\\, \\text{d}u}{(q^2+u^2)^{H+3/2}}\\cos^2 \\left[F_m\\gamma (1-\\zeta)u^2\\right]J_1^2\\left(R_m\\gamma u\\right) F_1[(1-\\gamma)\\delta_m u].\\quad\\quad(\\times.6)$$"
      ],
      "metadata": {}
    },
    {
      "cell_type": "markdown",
      "source": [
        "On the other hand, if $q\\ll1$ because the outer scale is too large, then these integrals may require a different variable change: $u=q v$. Then,"
      ],
      "metadata": {}
    },
    {
      "cell_type": "markdown",
      "source": [
        "$$\\frac{1}{q^{2H+1}}\\int _0^1\\!\\text{d}\\zeta\\int _{0 }^{\\infty }\\!\\frac{v\\exp(-q^2v^2)\\, \\text{d}v}{(1+v^2)^{H+3/2}}\\cos^2 \\left[(q^2F_m)\\gamma (1-\\zeta)v^2\\right]J_1^2\\left[(qR_m)\\gamma v\\right] F_T[(1-\\gamma)(q\\delta_m) v],\\quad\\quad(\\times.7)$$ and $$\\frac{1}{q^{2H+1}}\\int _0^1\\!\\text{d}\\zeta\\int _{0 }^{\\infty }\\!\\frac{v\\exp(-q^2v^2)\\, \\text{d}v}{(1+v^2)^{H+3/2}}\\cos^2 \\left[(q^2F_m)\\gamma (1-\\zeta)v^2\\right]J_1^2\\left[(qR_m)\\gamma v\\right] F_1[(1-\\gamma)(q\\delta_m) v].\\quad\\quad(\\times.8)$$"
      ],
      "metadata": {}
    },
    {
      "cell_type": "markdown",
      "source": [
        "All the dimensionless constants become functions of the outer scale: $F_0=q^2F_m=\\kappa_0^2L/(2k)$, $R_0=qR_m=\\kappa_0D/2$, and $\\delta_0=q\\delta_m=\\kappa_0d$. The only free parameter is $q$ which turns $(\\times.7)$ and $(\\times.8)$ into the integrals defined by Gladysz et al. "
      ],
      "metadata": {}
    },
    {
      "cell_type": "markdown",
      "source": [
        "$$q^{2H+1}I_T(F_m,R_m,\\delta_m;H,q\\rightarrow0)=\\int _0^1\\!\\text{d}\\zeta\\int _{0 }^{\\infty }\\!\\frac{v\\, \\text{d}v}{(1+v^2)^{H+3/2}}\\cos^2 \\left[F_0\\gamma (1-\\zeta)v^2\\right]J_1^2\\left[R_0\\gamma v\\right] F_T[(1-\\gamma)\\delta_0 v],\\quad\\quad(\\times.9)$$ and $$q^{2H+1}I_1(F_m,R_m,\\delta_m;H,q\\rightarrow0)=\\int _0^1\\!\\text{d}\\zeta\\int _{0 }^{\\infty }\\!\\frac{v\\, \\text{d}v}{(1+v^2)^{H+3/2}}\\cos^2 \\left[F_0\\gamma (1-\\zeta)v^2\\right]J_1^2\\left[R_0\\gamma v\\right] F_1[(1-\\gamma)\\delta_0 v].\\quad\\quad(\\times.10)$$"
      ],
      "metadata": {}
    },
    {
      "cell_type": "markdown",
      "source": [
        "These functions share, with the orignals, the same kernel-like functions"
      ],
      "metadata": {}
    },
    {
      "cell_type": "markdown",
      "source": [
        "$$\\frac{z}{(\\delta^2+z^2)^{H+3/2}}\\cos^2(F z^2)J_1^2(R z)\\times\\left.\\begin{cases}F_T(\\delta\\,  z)\\\\F_1(\\delta\\, z) \\end{cases}\\right\\};$$"
      ],
      "metadata": {}
    },
    {
      "cell_type": "markdown",
      "source": [
        "observe that since $\\ell_0\\ll L_0$ the respective dimensionless constants are smaller for the non-inner scale case than for the full inertial range—with the exception of $\\delta\\equiv1$ for the former. Therefore, we will analyze first the characteristics ranges of the dimensionless constants for specific configurations, and how these impact in the value of the *kernel*."
      ],
      "metadata": {}
    },
    {
      "cell_type": "markdown",
      "source": [
        "#### A) Case $d>\\ell_0$"
      ],
      "metadata": {}
    },
    {
      "cell_type": "markdown",
      "source": [
        "This condition is the most widely found when an experiment is performed outdoors; usually, targets are far away, and the resolution of the camera looking at the dot array requires them to be separated in distances larger than the inner scale. It is under this condition that the approximation $d>\\ell_0\\rightarrow0$ is valid. As the apertura of a camera is on the order of centimeters or larger it is always found that $D>\\ell_0$. Therefore, we always have $\\delta_m>1$ and $D_m>1$, and also the asympototic condition $\\delta_m\\gg1$ and $D_m\\gg1$ should be considered, when the inner scale is negligible. The later should be compared with the approach introduced by Gladysz et al, and redefined in the dimensionless eqs. $(\\times.9)$ and $(\\times.10)$.  "
      ],
      "metadata": {}
    },
    {
      "cell_type": "markdown",
      "source": [
        "Under outdoor experiments, it may be assumed $0.5>D_0>0.005$ (or less) and $0.1>\\delta_0>0.0001$; that is, they are always smaller than one. Moreover, it may be reasonable to assume the condition $D_0\\ll1$ and $\\delta_0\\ll1$. The Fresnel number in these situations is small, $F_0\\ll1$. Since $\\gamma(1-\\zeta)<1$, it will depend on the spectrum and the cut off provided by Bessel functions whether it has any influence on evaluating these integrals."
      ],
      "metadata": {}
    },
    {
      "cell_type": "code",
      "source": [
        "disp('F_0='); pi*625E-9*100/10**2,pi*625E-9*1000/10**2, pi*625E-9*10/1**2,pi*625E-9*1000/1**2"
      ],
      "outputs": [
        {
          "output_type": "stream",
          "name": "stdout",
          "text": [
            "F_0=\n"
          ]
        },
        {
          "output_type": "execute_result",
          "execution_count": 15,
          "data": {
            "text/plain": "(1.963495408493621e-06,\n 1.963495408493621e-05,\n 1.963495408493621e-05,\n 0.001963495408493621)"
          },
          "metadata": {}
        }
      ],
      "execution_count": 15,
      "metadata": {
        "inputHidden": false,
        "outputHidden": false
      }
    },
    {
      "cell_type": "markdown",
      "source": [
        "Otherwise, $F_m$ is broadly distributed and the cosine contribution strongly depends on the cut off provided by the Bessel functions—a series expansion in this case may not be possible. Finally, observe that the conditions given above do not forbid the ocurrence of $D_m<\\delta_m$. "
      ],
      "metadata": {}
    },
    {
      "cell_type": "code",
      "source": [
        "disp('F_m='); pi*625E-9*100/0.01**2,pi*625E-9*1000/0.01**2, pi*625E-9*10/.005**2,pi*625E-9*1000/.005**2"
      ],
      "outputs": [
        {
          "output_type": "stream",
          "name": "stdout",
          "text": [
            "F_m=\n"
          ]
        },
        {
          "output_type": "execute_result",
          "execution_count": 17,
          "data": {
            "text/plain": "(1.9634954084936207, 19.634954084936208, 0.7853981633974484, 78.53981633974483)"
          },
          "metadata": {}
        }
      ],
      "execution_count": 17,
      "metadata": {
        "inputHidden": false,
        "outputHidden": false
      }
    },
    {
      "cell_type": "markdown",
      "source": [
        "#### B) Case $d\\leq\\ell_0$"
      ],
      "metadata": {}
    },
    {
      "cell_type": "markdown",
      "source": [
        "This condition is particular to indoor experiments; then is possible to have $\\delta_m\\leq1$ and $D_m>1$—the condition $D_m<1$ is almost impossible to fulfil as most apertures are larger than a centimeter. Extreme conditions may happen when $\\delta_m\\ll1$ and $D_m\\gg1$, or simply the later is fulfilled. As in **(B)**, the Fresnel number can move broadly."
      ],
      "metadata": {}
    },
    {
      "cell_type": "markdown",
      "source": [
        "In this condition, Gladysz et al. approach forces $d\\rightarrow0$ and thus $\\delta_0=\\delta_mq\\rightarrow0$. A comparison of this limit must be reviewed against eqs. $(\\times.7)$ and $(\\times.8)$."
      ],
      "metadata": {}
    },
    {
      "cell_type": "markdown",
      "source": [
        "### Bounds for numerical integration "
      ],
      "metadata": {}
    },
    {
      "cell_type": "markdown",
      "source": [
        "The integrals of typ $(\\times.5)$ or $(\\times.6)$ need to be numerically evaluated. Thus, they must be trunked at an (possibly) integer number $N$. That is,"
      ],
      "metadata": {}
    },
    {
      "cell_type": "markdown",
      "source": [
        "$$I_{T,1}^{(N)}(F_m,R_m,\\delta_m,\\zeta;H,q)=\\int _{0 }^{N }\\!\\frac{u\\exp(-u^2)\\, \\text{d}u}{(q^2+u^2)^{H+3/2}}\\cos^2 \\left[F_m\\gamma (1-\\zeta)u^2\\right]J_1^2\\left(R_m\\gamma u\\right) F_{T,1}[(1-\\gamma)\\delta_m u].\\quad\\quad(\\times.11)$$ "
      ],
      "metadata": {}
    },
    {
      "cell_type": "markdown",
      "source": [
        "The error between this numerical integral and the exact solution is $\\left|I_{T,1}(F_m,R_m,\\delta_m,\\zeta;H,q)-I_{N,1}^{(N)}(F_m,R_m,\\delta_m,\\zeta;H,q)\\right|=\\epsilon_N(F_m,R_m,\\delta_m,\\zeta;H,q)$. We will look for a bound to the error—the best we can find. Obviously, since the cosine is bounded by $1$ in any interval, the error bound is independent of the Fresnel number $F_m$. Otherwise, $F_{T}$ and $F_{1}$ have their absolute maximum at $1.40276$ and $0.56614$, respectivelly. By using these bounds, with a the upper bound $\\left|\\cos^2[F_m\\gamma(1-\\zeta)u^2]\\right|\\leq1$, we have"
      ],
      "metadata": {}
    },
    {
      "cell_type": "markdown",
      "source": [
        "$$\\left|\\epsilon_N(F_m,R_m,\\delta_m,\\zeta;H,q)\\right|< \\max{\\left|F_{1,T}\\right|}\\int _{N }^{\\infty }\\!\\frac{u\\exp(-u^2)\\, \\text{d}u}{(q^2+u^2)^{H+3/2}}J_1^2\\left(R_m\\gamma u\\right) .\\quad\\quad(\\times.12)$$"
      ],
      "metadata": {}
    },
    {
      "cell_type": "markdown",
      "source": [
        "Thus the bound to the error is independent of the separation between point in the grid and the Fresnel number. The dimensionless spectrum reaches its maximum at $u=\\sqrt{\\sqrt{1+(2q^2+2H+3)^2/4}-(2q^2+2H+3)/2}<0.6$, then by choosing $N>1$ we may concentrate in the tails of this integrand. Since $(q^2+N^2)^{-H-3/2} \\leq N^{-2H-3}$,"
      ],
      "metadata": {}
    },
    {
      "cell_type": "markdown",
      "source": [
        "$$\\int _{N }^{\\infty }\\!\\frac{u\\exp(-u^2)\\, \\text{d}u}{(q^2+u^2)^{H+3/2}}J_1^2\\left(R_m\\gamma u\\right)<\\exp(-N^2)\\int _{N }^{\\infty }\\!\\!\\text{d}u\\,\\frac{J_1^2\\left(R_m\\gamma u\\right) }{u^{2H+2}}.$$ \n",
        "Then, calculating the remaining integral lead us to\n",
        "$$\\int _{N }^{\\infty }\\!\\!\\text{d}u\\,\\frac{J_1^2\\left(R_m\\gamma u\\right) }{u^{2H+2}}=R_m^2\\gamma^2\\left[\\frac{\\Gamma\\!\\left(1+H\\right)\\Gamma\\!\\left(1/2-H\\right)}{2\\sqrt{\\pi}\\Gamma\\!\\left(3/2+H\\right)\\Gamma\\!\\left(5/2-H\\right)}-\\frac{1}{4(1-2H)N^{2H-1}}{}_2F_3\\left(3/2,-H+1/2;2,-H+3/2,3;-R_m^2\\gamma^2N^2\\right)\\right]$$\n",
        "$$ \\simeq \\frac{-\\Gamma\\!\\left(-1-H\\right)}{4\\pi\\Gamma\\!\\left(-H\\right)R_m\\gamma N^3}=\\frac{1}{4\\pi H R_m\\gamma N^3},$$\n"
      ],
      "metadata": {}
    },
    {
      "cell_type": "markdown",
      "source": [
        "if $R_mN\\gg1$. Therefore, the asymptotic of the error bound is\n",
        "$$\\left|\\epsilon_{\\text{bound},N}(F_m,R_m,\\delta_m,\\zeta;H,q)\\right|=\\max{\\left|F_{1,T}\\right|}\\frac{\\exp(-N^2)}{4\\pi R_m \\gamma N^3};\\quad\\quad(\\times.13)$$\n",
        "this bound works reasonably well for $N>2$. In the particular case of Gladysz et al. approach, because of the lack of inner scale, the exponential term is dropped and the bound error is\n",
        "$$\\left|\\epsilon_{\\text{bound},N}(F_0,R_0,\\delta_0,\\zeta;H,q\\rightarrow0)\\right|=\\max{\\left|F_{1,T}\\right|}\\frac{1}{4\\pi R_0 \\gamma N^3}.\\quad\\quad(\\times.14)$$"
      ],
      "metadata": {}
    },
    {
      "cell_type": "markdown",
      "source": [
        "Yet this bound is dependant on $\\gamma$, and thus it diverges at $\\gamma=0$—this is not a uniform convergence. By evaluating the Bessel function at its maximum, we arrive to the bound\n",
        "$$\\left|\\epsilon_{\\text{bound},N}(F_m,R_m,\\delta_m,\\zeta;H,q)\\right|=\\frac{3\\max{\\left|F_{1,T}\\right|}}{10}\\Gamma\\!\\left(-\\frac{1}{2}-H,N^2\\right)\\simeq \\frac{3\\max{\\left|F_{1,T}\\right|}}{10}\\exp\\left(-N^2\\right)N^{-3-2H};$$\n",
        "for our conditions, it works pretty well for $N\\geq3$. While for Gladysz et al. to\n",
        "$$\\left|\\epsilon_{\\text{bound},N}(F_m,R_m,\\delta_m,\\zeta;H,q)\\right|= \\frac{3\\max{\\left|F_{1,T}\\right|}}{5(2H+1)}N^{-2H-1}.$$\n",
        "In this case convergence is really slow: you will need $N=100$ to have three significative digits, while for $N=3$ in our approach you can have at least six."
      ],
      "metadata": {}
    },
    {
      "cell_type": "code",
      "source": [
        "from numpy import *; from sympy import *"
      ],
      "outputs": [],
      "execution_count": 6,
      "metadata": {
        "inputHidden": false,
        "outputHidden": false
      }
    },
    {
      "cell_type": "code",
      "source": [
        "2*pi*10000*6*10**(-7)/10"
      ],
      "outputs": [
        {
          "output_type": "execute_result",
          "execution_count": 2,
          "data": {
            "text/plain": "0.0037699111843077517"
          },
          "metadata": {}
        }
      ],
      "execution_count": 2,
      "metadata": {
        "inputHidden": false,
        "outputHidden": false
      }
    },
    {
      "cell_type": "code",
      "source": [
        "gamma(3/2)/2"
      ],
      "outputs": [
        {
          "output_type": "execute_result",
          "execution_count": 8,
          "data": {
            "text/plain": "0.443113462726379"
          },
          "metadata": {}
        }
      ],
      "execution_count": 8,
      "metadata": {
        "inputHidden": false,
        "outputHidden": false
      }
    },
    {
      "cell_type": "code",
      "source": [
        "N = errorbound1T(f1t,glz,H,errbound)"
      ],
      "outputs": [],
      "execution_count": 4,
      "metadata": {
        "inputHidden": false,
        "outputHidden": false
      }
    },
    {
      "cell_type": "code",
      "source": [],
      "outputs": [],
      "execution_count": 4,
      "metadata": {
        "inputHidden": false,
        "outputHidden": false
      }
    }
  ],
  "metadata": {
    "gist_id": "d5ef035b2569a205cc7555ed926f78c1",
    "kernel_info": {
      "name": "python3"
    },
    "kernelspec": {
      "name": "python3",
      "language": "python",
      "display_name": "Python 3"
    },
    "language_info": {
      "name": "python",
      "version": "3.7.3",
      "mimetype": "text/x-python",
      "codemirror_mode": {
        "name": "ipython",
        "version": 3
      },
      "pygments_lexer": "ipython3",
      "nbconvert_exporter": "python",
      "file_extension": ".py"
    },
    "nteract": {
      "version": "0.24.1"
    }
  },
  "nbformat": 4,
  "nbformat_minor": 1
}